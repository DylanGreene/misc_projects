{
 "cells": [
  {
   "cell_type": "code",
   "execution_count": 1,
   "metadata": {},
   "outputs": [],
   "source": [
    "import numpy as np\n",
    "import pandas as pd\n",
    "from sklearn.linear_model import LinearRegression"
   ]
  },
  {
   "cell_type": "code",
   "execution_count": 2,
   "metadata": {},
   "outputs": [],
   "source": [
    "train = pd.read_csv('housing-training.csv', header=None)"
   ]
  },
  {
   "cell_type": "code",
   "execution_count": 3,
   "metadata": {},
   "outputs": [],
   "source": [
    "validate = pd.read_csv('housing-validation.csv', header=None)"
   ]
  },
  {
   "cell_type": "code",
   "execution_count": 4,
   "metadata": {},
   "outputs": [],
   "source": [
    "tot_train = pd.concat([train, validate], ignore_index=True)"
   ]
  },
  {
   "cell_type": "code",
   "execution_count": 5,
   "metadata": {},
   "outputs": [],
   "source": [
    "X = tot_train[list(range(13))]\n",
    "y = tot_train[13]"
   ]
  },
  {
   "cell_type": "code",
   "execution_count": 6,
   "metadata": {},
   "outputs": [
    {
     "data": {
      "text/plain": [
       "LinearRegression(copy_X=True, fit_intercept=True, n_jobs=1, normalize=False)"
      ]
     },
     "execution_count": 6,
     "metadata": {},
     "output_type": "execute_result"
    }
   ],
   "source": [
    "model = LinearRegression()\n",
    "model.fit(X, y)"
   ]
  },
  {
   "cell_type": "code",
   "execution_count": 7,
   "metadata": {},
   "outputs": [],
   "source": [
    "test = pd.read_csv('housing-testing.csv', header=None)"
   ]
  },
  {
   "cell_type": "code",
   "execution_count": 8,
   "metadata": {},
   "outputs": [],
   "source": [
    "X_test = test[list(range(13))]\n",
    "y_test = test[13]"
   ]
  },
  {
   "cell_type": "code",
   "execution_count": 9,
   "metadata": {},
   "outputs": [],
   "source": [
    "y_pred = model.predict(X_test)"
   ]
  },
  {
   "cell_type": "code",
   "execution_count": 10,
   "metadata": {},
   "outputs": [],
   "source": [
    "from sklearn.metrics import r2_score"
   ]
  },
  {
   "cell_type": "code",
   "execution_count": 12,
   "metadata": {},
   "outputs": [
    {
     "data": {
      "text/plain": [
       "0.39647465736748877"
      ]
     },
     "execution_count": 12,
     "metadata": {},
     "output_type": "execute_result"
    }
   ],
   "source": [
    "r2_score(y_test, y_pred)"
   ]
  },
  {
   "cell_type": "code",
   "execution_count": 14,
   "metadata": {},
   "outputs": [
    {
     "data": {
      "text/plain": [
       "[(12.7, 12.590931113075683),\n",
       " (13.5, 12.788967724516038),\n",
       " (14.9, 18.439044622429268),\n",
       " (20.0, 19.50586475955143),\n",
       " (16.4, 19.68809119709936),\n",
       " (17.7, 21.43310591053698),\n",
       " (19.5, 21.242824221982882),\n",
       " (20.2, 23.295198992004728),\n",
       " (21.4, 20.873305170965967),\n",
       " (19.9, 18.154459741632092),\n",
       " (19.0, 14.119366175675873),\n",
       " (19.1, 17.308095353012824),\n",
       " (19.1, 17.71967375286618),\n",
       " (20.1, 19.164543088310115),\n",
       " (19.9, 20.859963216280974),\n",
       " (19.6, 23.572611397543305),\n",
       " (23.2, 23.10696441308868),\n",
       " (29.8, 26.101630143793912),\n",
       " (13.8, 17.073303346907014),\n",
       " (13.3, 16.767814307772312),\n",
       " (16.7, 21.07728231354543),\n",
       " (12.0, 12.013690469172733),\n",
       " (14.6, 19.90486638954722),\n",
       " (21.4, 22.499194864645965),\n",
       " (23.0, 23.86431801845606),\n",
       " (23.7, 27.774040540739797),\n",
       " (25.0, 29.070917763363305),\n",
       " (21.8, 21.488648591828998),\n",
       " (20.6, 19.77294718062477),\n",
       " (21.2, 23.293728637903513),\n",
       " (19.1, 20.415433501430645),\n",
       " (20.6, 21.87504652197712),\n",
       " (15.2, 11.070828921043764),\n",
       " (7.0, 7.388280836388462),\n",
       " (8.1, 2.8343301886561267),\n",
       " (13.6, 13.104296740278208),\n",
       " (20.1, 15.190016239217517),\n",
       " (21.8, 20.38688580569937),\n",
       " (24.5, 20.220963435437657),\n",
       " (23.1, 16.30226084139477),\n",
       " (19.7, 13.417682816356928),\n",
       " (18.3, 18.9905726478028),\n",
       " (21.2, 21.154607621233037),\n",
       " (17.5, 18.33453223280091),\n",
       " (16.8, 20.43809003387181),\n",
       " (22.4, 24.03806862011269),\n",
       " (20.6, 22.465598670814465),\n",
       " (23.9, 27.90243680840205),\n",
       " (22.0, 26.108783787472653),\n",
       " (11.9, 22.511469811885924)]"
      ]
     },
     "execution_count": 14,
     "metadata": {},
     "output_type": "execute_result"
    }
   ],
   "source": [
    "list(zip(y_test, y_pred))"
   ]
  },
  {
   "cell_type": "code",
   "execution_count": null,
   "metadata": {},
   "outputs": [],
   "source": []
  }
 ],
 "metadata": {
  "kernelspec": {
   "display_name": "Python [conda env:anaconda3]",
   "language": "python",
   "name": "conda-env-anaconda3-py"
  },
  "language_info": {
   "codemirror_mode": {
    "name": "ipython",
    "version": 3
   },
   "file_extension": ".py",
   "mimetype": "text/x-python",
   "name": "python",
   "nbconvert_exporter": "python",
   "pygments_lexer": "ipython3",
   "version": "3.5.5"
  }
 },
 "nbformat": 4,
 "nbformat_minor": 2
}
